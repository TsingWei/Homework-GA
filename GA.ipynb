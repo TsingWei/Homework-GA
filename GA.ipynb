{
 "cells": [
  {
   "cell_type": "markdown",
   "metadata": {},
   "source": [
    "### 1. 目标函数的定义\n",
    "\n",
    "#### 1.1 Ackley函数:\n",
    "\n",
    "$$\n",
    "f\\left(x_{0} \\cdots x_{n}\\right)=-20 \\exp \\left(-0.2 \\sqrt{\\frac{1}{n} \\sum_{i=1}^{n} x_{i}^{2}}\\right)-\\exp \\left(\\frac{1}{n} \\sum_{i=1}^{n} \\cos \\left(2 \\pi x_{i}\\right)\\right)+20+e\n",
    "$$\n",
    "\n",
    "$$ -30<x_{i}<30 $$"
   ]
  },
  {
   "cell_type": "markdown",
   "metadata": {},
   "source": [
    "#### 1.2 代码实现："
   ]
  },
  {
   "cell_type": "code",
   "execution_count": 1,
   "metadata": {},
   "outputs": [],
   "source": [
    "import numpy as np\n",
    "import random\n",
    "\n",
    "def Ackley(x):\n",
    "    # 检查输入是否为 numpy-array \n",
    "    if not isinstance(x, np.ndarray): \n",
    "        x = np.asarray(x)   \n",
    "    dim = x.shape[-1]\n",
    "    return -20.0 * np.exp(\n",
    "        -0.2 * np.linalg.norm(x, axis=-1) / np.sqrt(dim)\n",
    "        ) - np.exp(np.sum(np.cos(2 * np.pi * x),\n",
    "        axis=-1) / dim) + 20 + np.e"
   ]
  },
  {
   "cell_type": "markdown",
   "metadata": {},
   "source": [
    "#### 1.3 参数："
   ]
  },
  {
   "cell_type": "code",
   "execution_count": 2,
   "metadata": {},
   "outputs": [],
   "source": [
    "LB, UB = -30, 30                    # 输入变量的取值范围\n",
    "N_DIM = 10                          # 输入变量的维度\n",
    "SIZE_POP = 50                       # 种群规模\n",
    "MAX_ITER = 50                       # 迭代次数\n",
    "MP = 0.01                           # 变异概率\n",
    "ELITE_NUM = 2                       # 精英保留数量"
   ]
  },
  {
   "cell_type": "markdown",
   "metadata": {},
   "source": [
    "### 2.遗传算法中的方法定义"
   ]
  },
  {
   "cell_type": "code",
   "execution_count": 3,
   "metadata": {},
   "outputs": [],
   "source": [
    "def randomF(low, up, shape): # 生成随机浮点数\n",
    "    return np.random.ranf(shape)*(up-low)+low\n",
    "\n",
    "def initializaion(): # 初始化种群\n",
    "    return [randomF(LB, UB, [N_DIM]) for _ in range(SIZE_POP)]\n",
    "\n",
    "def generate(parents, weights, mp=0): # 交配\n",
    "    offspring = []\n",
    "    while len(offspring) < (len(parents) - ELITE_NUM):\n",
    "        p1,p2 = random.choices(parents, weights, k=2)\n",
    "        offspring.extend(crossover(p1, p2, mp))\n",
    "    return offspring\n",
    "\n",
    "def crossover(a, b, mp=0): # 交配中的基因交叉,目前实现是每个位点随机交叉\n",
    "    choice = np.random.randint(0, 2, a.shape)\n",
    "    a1 = a.copy()\n",
    "    a2 = a.copy()\n",
    "    b1 = b.copy()\n",
    "    b2 = b.copy()\n",
    "    a1[choice==0] = 0\n",
    "    b1[choice==1] = 0 \n",
    "    a2[choice==1] = 0\n",
    "    b2[choice==0] = 0 \n",
    "    return mutation(a1 + b1, mp), mutation(a2 + b2, mp)\n",
    "\n",
    "def mutation(a, mp): # 交配中的基因变异\n",
    "    _mp = int(100*mp) # 变异概率阈值\n",
    "    idx = np.random.randint(0, 100, a.shape) < _mp \n",
    "    mutation = randomF(LB, UB, a.size)\n",
    "    a[idx] = mutation[idx]\n",
    "    return a"
   ]
  },
  {
   "cell_type": "code",
   "execution_count": 7,
   "metadata": {},
   "outputs": [
    {
     "data": {
      "image/png": "[encoded data removed]",
      "text/plain": [
       "<Figure size 432x288 with 1 Axes>"
      ]
     },
     "metadata": {
      "needs_background": "light"
     },
     "output_type": "display_data"
    }
   ],
   "source": [
    "\n",
    "i = 0\n",
    "Y_history = []\n",
    "minY = [[] for _ in range(MAX_ITER)]\n",
    "for _test in range(100):\n",
    "    x = initializaion()\n",
    "    for _ in range(MAX_ITER):\n",
    "        y = Ackley(x)       # 计算y值\n",
    "        minY[_].append(np.min(y)) # 记录每一代的表现情况\n",
    "        # 选取精英\n",
    "        elite = [x[i] for i in np.argsort(y)[:ELITE_NUM]]\n",
    "        score = np.max(y)+10-y   # 适应度\n",
    "        x = generate(x, score, 0.01)\n",
    "        x = x + elite\n",
    "        # print(\"%d ITER_%d\\tMin=%.4f\\tAvg=%.4f\"%(len(x), i,np.min(y),np.average(y)))\n",
    "from matplotlib import pyplot as plt\n",
    "avgY = [np.average(i) for i in minY]\n",
    "# minY = [np.min(i) for i in Y_history]\n",
    "idx = np.arange(MAX_ITER)\n",
    "# fig, ax = plt.subplots(2, 1)\n",
    "# plt.subplot(3,1,1)\n",
    "plt.plot(idx, avgY, '+', color='blue')\n",
    "plt.title(\"Average\")\n",
    "# plt.subplot(3,1,3)\n",
    "# plt.plot(idx, minY, '+', color='blue')\n",
    "# plt.title(\"Minimum\")\n",
    "\n",
    "plt.show()"
   ]
  },
  {
   "cell_type": "code",
   "execution_count": 5,
   "metadata": {},
   "outputs": [],
   "source": [
    "from sko.GA import GA\n",
    "# Lower bound\n",
    "lb = [-30 for i in range(10)]\n",
    "# Upper bound\n",
    "ub = [30 for i in range(10)]\n",
    "\n",
    "\n",
    "minYY = [[] for _ in range(50)]\n",
    "for i in range(100):\n",
    "        ga = GA(func=Ackley,\n",
    "                n_dim=10,\n",
    "                size_pop=50,\n",
    "                max_iter=50,\n",
    "                prob_mut=0.01,\n",
    "                lb=lb, ub=ub,\n",
    "                precision=1e-7)\n",
    "        best_x, best_y = ga.run()\n",
    "        for _ in range(50):\n",
    "                minYY[_].append(np.min(ga.all_history_Y[_]))\n",
    "skoY =[np.average(i) for i in minYY]"
   ]
  },
  {
   "cell_type": "code",
   "execution_count": 11,
   "metadata": {},
   "outputs": [
    {
     "data": {
      "image/png": "[encoded data removed]",
      "text/plain": [
       "<Figure size 432x288 with 1 Axes>"
      ]
     },
     "metadata": {
      "needs_background": "light"
     },
     "output_type": "display_data"
    }
   ],
   "source": [
    "plt.rcParams['font.family']=['simhei']\n",
    "plt.rcParams['axes.unicode_minus'] = False\n",
    "fig,ax = plt.subplots()\n",
    "ax.plot(idx, avgY, '+', label='自己实现的GA')\n",
    "ax.plot(idx, skoY, 'x', color='red', label='sko库中的GA')\n",
    "ax.set_xlabel('迭代次数') #设置x轴名称 x label\n",
    "ax.set_ylabel('平均最小值') #设置y轴名称 y label\n",
    "ax.set_title('100次试验下GA算法的平均最小函数值') #设置图名为Simple Plot\n",
    "ax.legend() #自动检测要在图例中显示的元素，并且显示\n",
    "plt.savefig('./compare.svg', dpi=300)\n",
    "plt.show()\n"
   ]
  }
 ],
 "metadata": {
  "interpreter": {
   "hash": "91effa93a66e545058222d6c05d27cba53e860b1deee2469a5c50b6aef3b663f"
  },
  "kernelspec": {
   "display_name": "Python 3.8.13 ('sk')",
   "language": "python",
   "name": "python3"
  },
  "language_info": {
   "codemirror_mode": {
    "name": "ipython",
    "version": 3
   },
   "file_extension": ".py",
   "mimetype": "text/x-python",
   "name": "python",
   "nbconvert_exporter": "python",
   "pygments_lexer": "ipython3",
   "version": "3.8.13"
  },
  "orig_nbformat": 4
 },
 "nbformat": 4,
 "nbformat_minor": 2
}
