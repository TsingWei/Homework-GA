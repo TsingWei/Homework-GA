{
 "cells": [
  {
   "cell_type": "markdown",
   "metadata": {},
   "source": [
    "## 作业2：使用蚁群算法解决TSP问题\n",
    "2112105068 韦青茂\n",
    "\n",
    "30个城市的TSP问题Oliver30数据："
   ]
  },
  {
   "cell_type": "code",
   "execution_count": 3,
   "metadata": {},
   "outputs": [],
   "source": [
    "import numpy as np\n",
    "from matplotlib import pyplot as plt\n",
    "\n",
    "tsp30 = np.array([[87, 7], [91, 38], [83, 46], [71, 44], [64, 60], [\n",
    "    68, 58], [83, 69], [87, 76], [74, 78], [71, 71], [\n",
    "    58, 69], [54, 62], [51, 67], [37, 84], [41, 94], [\n",
    "    2, 99], [7, 64], [22, 60], [25, 62], [18, 54], [\n",
    "    4, 50], [13, 40], [18, 40], [24, 42], [25, 38], [\n",
    "    41, 26], [45, 21], [44, 35], [58, 35], [62, 32]])\n"
   ]
  },
  {
   "cell_type": "markdown",
   "metadata": {},
   "source": [
    "计算好各个城市间的距离矩阵，以及对距离取倒数的$\\eta$矩阵"
   ]
  },
  {
   "cell_type": "code",
   "execution_count": 4,
   "metadata": {},
   "outputs": [],
   "source": [
    "distance = np.zeros([30,30])\n",
    "for x in range(30):\n",
    "    for y in range(30):\n",
    "        d = np.sqrt(np.square(tsp30[x,0]-tsp30[y,0]) +\n",
    "            np.square(tsp30[x,1]-tsp30[y,1]))\n",
    "        if x==y:\n",
    "            d = 1\n",
    "        distance[x,y] = d\n",
    "\n",
    "eta = 1/distance\n",
    "row, col = np.diag_indices_from(eta)\n",
    "eta[row,col] = 0"
   ]
  },
  {
   "cell_type": "markdown",
   "metadata": {},
   "source": [
    "蚂蚁类的定义"
   ]
  },
  {
   "cell_type": "code",
   "execution_count": 5,
   "metadata": {},
   "outputs": [],
   "source": [
    "class _Ant(object):\n",
    "    def __init__(self, start = -1):\n",
    "        self.total_cost = 0\n",
    "        self.pheromone_delta = []  # 信息素的增量\n",
    "        if start == -1:\n",
    "            self.start = np.random.randint(0, NUM_CITY)  # 随机选择初始城市\n",
    "        else:\n",
    "            self.start = start\n",
    "        self.allowed = np.ones(NUM_CITY)\n",
    "        self.allowed[self.start] = 0\n",
    "        self.current = self.start\n",
    "        self.trail = [self.start]\n",
    "        self.pheromone_powered = np.power(pheromone, ALPHA)\n",
    "\n",
    "    # 根据概率选择下一个要去的城市\n",
    "    def _select_next(self):\n",
    "        # 计算各个可行城市的概率\n",
    "        pheromone_allowed = self.pheromone_powered[self.current] * self.allowed\n",
    "        eta_allowed = eta_powered[self.current] * self.allowed\n",
    "        probabilities = pheromone_allowed * eta_allowed / np.sum(pheromone_allowed * eta_allowed)\n",
    "\n",
    "        selected = np.random.choice(30,p=probabilities)\n",
    "        self.trail.append(selected)\n",
    "        self.allowed[selected] = 0\n",
    "        self.total_cost += distance[self.current][selected]\n",
    "        self.current = selected\n",
    "        return selected\n",
    "\n",
    "    # 计算路径上信息素增量\n",
    "    def _update_pheromone_delta(self):\n",
    "        self.pheromone_delta = np.zeros([NUM_CITY, NUM_CITY])\n",
    "        for _ in range(1, len(self.trail)):\n",
    "            i = self.trail[_ - 1]\n",
    "            j = self.trail[_]\n",
    "            if UPDATE_STRATEGY == 1:  # ant-quality system\n",
    "                self.pheromone_delta[i][j] = Q\n",
    "                self.pheromone_delta[j][i] = Q\n",
    "            elif UPDATE_STRATEGY == 2:  # ant-density system\n",
    "                self.pheromone_delta[i][j] = Q / distance[i][j]\n",
    "                self.pheromone_delta[j][i] = Q / distance[i][j]\n",
    "            else:  # ant-cycle system\n",
    "                self.pheromone_delta[i][j] = Q / self.total_cost\n",
    "                self.pheromone_delta[j][i] = Q / self.total_cost"
   ]
  },
  {
   "cell_type": "markdown",
   "metadata": {},
   "source": [
    "算法过程"
   ]
  },
  {
   "cell_type": "code",
   "execution_count": 7,
   "metadata": {},
   "outputs": [
    {
     "name": "stdout",
     "output_type": "stream",
     "text": [
      "Test 49, gen #199, best cost: 424.8692923184516, path: [4, 5, 3, 2, 1, 0, 29, 28, 26, 25, 27, 24, 23, 22, 21, 20, 19, 17, 18, 16, 15, 14, 13, 12, 11, 10, 9, 8, 7, 6]\n"
     ]
    },
    {
     "data": {
      "image/png": "[encoded data removed]",
      "text/plain": [
       "<Figure size 432x432 with 1 Axes>"
      ]
     },
     "metadata": {
      "needs_background": "light"
     },
     "output_type": "display_data"
    }
   ],
   "source": [
    "NUM_ANT = 31  # 蚂蚁个数​\n",
    "NUM_CITY = 30  # 30个城市​\n",
    "ALPHA = 1  # 信息素重要程度因子​\n",
    "BETA = 5   # 启发函数重要程度因子​\n",
    "RHO = 0.5  # 信息素的挥发速度​\n",
    "Q = 100     # 信息量​\n",
    "UPDATE_STRATEGY = 0\n",
    "ITER_MAX = 200     #迭代总数​\n",
    "best_cost = float('inf')\n",
    "best_solution = []\n",
    "minY = [[] for _ in range(ITER_MAX)]\n",
    "\n",
    "for test in range(50):\n",
    "    pheromone = np.ones([NUM_CITY,NUM_CITY])*0.0001\n",
    "    eta_powered = np.power(eta,BETA)\n",
    "    for gen in range(ITER_MAX):\n",
    "        global GEN\n",
    "        GEN = gen\n",
    "        ants = [_Ant() for i in range(NUM_ANT)]\n",
    "        for _,ant in enumerate(ants):\n",
    "            for i in range(NUM_CITY-1):\n",
    "                end = ant._select_next()\n",
    "            ant.total_cost += distance[end][ant.start]\n",
    "            if ant.total_cost < best_cost:\n",
    "                best_cost = ant.total_cost\n",
    "                best_solution = [] + ant.trail\n",
    "            # update pheromone\n",
    "            ant._update_pheromone_delta()\n",
    "        pheromone = pheromone * RHO\n",
    "        for ant in ants:    \n",
    "            pheromone = pheromone + ant.pheromone_delta\n",
    "        minY[gen].append(best_cost)\n",
    "print('Test {}, gen #{}, best cost: {}, path: {}'.format(test, gen, best_cost, best_solution))\n",
    "plotTrail(best_solution,tsp30)"
   ]
  },
  {
   "cell_type": "markdown",
   "metadata": {},
   "source": [
    "每次试验迭代200轮，经过50次不同初始值的试验后，得到的最优解为424.869"
   ]
  },
  {
   "cell_type": "code",
   "execution_count": 12,
   "metadata": {},
   "outputs": [
    {
     "data": {
      "image/png": "[encoded data removed]",
      "text/plain": [
       "<Figure size 432x288 with 1 Axes>"
      ]
     },
     "metadata": {
      "needs_background": "light"
     },
     "output_type": "display_data"
    }
   ],
   "source": [
    "idx = np.arange(ITER_MAX)\n",
    "figure = plt.plot(idx, [np.average(i) for i in minY], '.', color='blue')\n",
    "plt.xlabel(\"迭代次数\")\n",
    "plt.ylabel(\"平均最小距离\")\n",
    "plt.title(\"50次试验下的最小值的平均值\")\n",
    "plt.show()"
   ]
  },
  {
   "cell_type": "code",
   "execution_count": null,
   "metadata": {},
   "outputs": [],
   "source": [
    "def plotTrail(path,points):\n",
    "\n",
    "    x = []\n",
    "    y = []\n",
    "    for point in points:\n",
    "        x.append(point[0])\n",
    "        y.append(point[1])\n",
    "    \n",
    "    plt.figure(figsize=(6, 6))\n",
    "    plt.plot(x, y, 'co')\n",
    "    for i in range(len(x)):\n",
    "        plt.annotate(i, xy=(x[i], y[i]),\n",
    "                    xytext=(x[i] + 0.001, y[i] + 0.001)) \n",
    "\n",
    "    for _ in range(1, len(path)):\n",
    "        i = path[_ - 1]\n",
    "        j = path[_]\n",
    "        plt.arrow(x[i], y[i], x[j] - x[i], y[j] - y[i], color='r', length_includes_head=True)\n",
    "    i = path[-1]\n",
    "    j = path[0]\n",
    "    plt.arrow(x[i], y[i], x[j] - x[i], y[j] - y[i], color='r', length_includes_head=True)\n",
    "    plt.xlim(0, max(x) * 1.1)\n",
    "    plt.ylim(0, max(y) * 1.1)\n",
    "    plt.axis('scaled')\n",
    "    plt.show()"
   ]
  }
 ],
 "metadata": {
  "interpreter": {
   "hash": "91effa93a66e545058222d6c05d27cba53e860b1deee2469a5c50b6aef3b663f"
  },
  "kernelspec": {
   "display_name": "Python 3.8.13 ('sk')",
   "language": "python",
   "name": "python3"
  },
  "language_info": {
   "codemirror_mode": {
    "name": "ipython",
    "version": 3
   },
   "file_extension": ".py",
   "mimetype": "text/x-python",
   "name": "python",
   "nbconvert_exporter": "python",
   "pygments_lexer": "ipython3",
   "version": "3.8.13"
  },
  "orig_nbformat": 4
 },
 "nbformat": 4,
 "nbformat_minor": 2
}
