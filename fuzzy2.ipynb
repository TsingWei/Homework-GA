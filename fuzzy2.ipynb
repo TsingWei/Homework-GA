{
 "cells": [
  {
   "cell_type": "markdown",
   "metadata": {},
   "source": [
    "## 模糊作业2： 模糊控制表的求取\n",
    "2112105068 韦青茂\n",
    "\n",
    "### 作业描述\n",
    "根据4.3.1例子中给出的热水瓶温度模糊控制的结构、I/O模糊化表、控制规则表如下，编程求出热水瓶温度模糊控制的控制表。"
   ]
  },
  {
   "cell_type": "markdown",
   "metadata": {},
   "source": [
    "### python代码实现\n",
    "#### 1. 首先定义输入\\输出的模糊化表以及规则表"
   ]
  },
  {
   "cell_type": "code",
   "execution_count": 1,
   "metadata": {},
   "outputs": [],
   "source": [
    "import numpy as np\n",
    "NB,NS,Z,PS,PB = 0,1,2,3,4\n",
    "# X\n",
    "table_e = {\n",
    "    # 'value':[-4, -3, -2, -1, 0, 1, 2, 3, 4],\n",
    "    PB:[0,  0,  0,  0,  0,  0,  0, .5,  1],\n",
    "    PS:[0,  0,  0,  0,  0, .5,  1, .5,  0],\n",
    "    Z: [0,  0,  0, .5,  1, .5,  0,  0,  0],\n",
    "    NS:[0, .5,  1, .5,  0,  0,  0,  0,  0],\n",
    "    NB:[1, .5, .5,  0,  0,  0,  0,  0,  0],\n",
    "}\n",
    "# Y\n",
    "table_DeltaE = {\n",
    "    PB:[0,  0,  0,  0,  1],\n",
    "    PS:[0,  0,  0,  1,  0],\n",
    "    Z: [0,  0,  1,  0,  0],\n",
    "    NS:[0,  1,  0,  0,  0],\n",
    "    NB:[1,  0,  0,  0,  0],   \n",
    "}\n",
    "# Output\n",
    "table_U = {\n",
    "    PB:[0,  0,  0,  0,  0, .5,  1],\n",
    "    PS:[0,  0,  0,  0,  1, .5,  0],\n",
    "    Z: [0,  0, .5,  1, .5,  0,  0],\n",
    "    NS:[0,  1, .5,  0,  0,  0,  0],\n",
    "    NB:[1, .5,  0,  0,  0,  0,  0],\n",
    "}\n",
    "\n",
    "U_output = np.arange(-3,4)\n",
    "\n",
    "\n",
    "table_rules = [\n",
    "    [PB, PB, PS,  Z, NB],\n",
    "    [PB, PB, PS, NS, NB],\n",
    "    [PB, PS,  Z, NS, NB],\n",
    "    [PB, PS, NS, NB, NB],\n",
    "    [PB,  Z, NS, NB, NB],\n",
    "]\n",
    "\n",
    "# 将所有表转换成numpy矩阵\n",
    "E = np.array([x[1] for x in sorted(table_e.items(),key=lambda kv:kv[0])])\n",
    "dE = np.array([x[1] for x in sorted(table_DeltaE.items(),key=lambda kv:kv[0])])\n",
    "U = np.array([x[1] for x in sorted(table_U.items(),key=lambda kv:kv[0])])\n",
    "rules = np.array(table_rules)"
   ]
  },
  {
   "cell_type": "markdown",
   "metadata": {},
   "source": [
    "#### 2. 以(x,y)=(-3,-2)为例的计算过程\n",
    "2.1 分别取 $e$ 、$\\Delta e$ 的I/O模糊化表中对应列的非0项"
   ]
  },
  {
   "cell_type": "code",
   "execution_count": 2,
   "metadata": {},
   "outputs": [
    {
     "name": "stdout",
     "output_type": "stream",
     "text": [
      "[ True  True False False False]\n",
      "[ True False False False False]\n"
     ]
    }
   ],
   "source": [
    "# x[1]=-3, y[0]=-2\n",
    "X, Y = 1,0 \n",
    "# 表E中不为0的行：\n",
    "idx_E = E[:,X] != 0\n",
    "# 表dE中不为0的行：\n",
    "idx_dE = dE[:,Y] != 0\n",
    "print(idx_E)\n",
    "print(idx_dE)"
   ]
  },
  {
   "cell_type": "markdown",
   "metadata": {},
   "source": [
    "2.2 由规则表，得到有效规则的结果"
   ]
  },
  {
   "cell_type": "code",
   "execution_count": 3,
   "metadata": {},
   "outputs": [
    {
     "name": "stdout",
     "output_type": "stream",
     "text": [
      "[4 4]\n"
     ]
    }
   ],
   "source": [
    "eff_rules = rules[idx_dE, idx_E]\n",
    "print(eff_rules)"
   ]
  },
  {
   "cell_type": "markdown",
   "metadata": {},
   "source": [
    "2.3 对所有有效规则计算相应的输出模糊值C"
   ]
  },
  {
   "cell_type": "code",
   "execution_count": 4,
   "metadata": {},
   "outputs": [
    {
     "name": "stdout",
     "output_type": "stream",
     "text": [
      "[[0.  0.  0.  0.  0.  0.5 0.5]\n",
      " [0.  0.  0.  0.  0.  0.5 0.5]]\n"
     ]
    }
   ],
   "source": [
    "mu_E = E[:,X][idx_E]\n",
    "mu_dE = dE[:,Y][idx_dE]\n",
    "mu_U = U[eff_rules]\n",
    "# 利用矩阵间最小值运算得到最小值\n",
    "min_temp = np.minimum(mu_dE,mu_E)\n",
    "_C = np.minimum((min_temp).reshape(len(min_temp),1), mu_U)\n",
    "print(_C)"
   ]
  },
  {
   "cell_type": "markdown",
   "metadata": {},
   "source": [
    "2.4 对所有C'取最大值得到控制输出的模糊量"
   ]
  },
  {
   "cell_type": "code",
   "execution_count": 5,
   "metadata": {},
   "outputs": [
    {
     "name": "stdout",
     "output_type": "stream",
     "text": [
      "[0.  0.  0.  0.  0.  0.5 0.5]\n"
     ]
    }
   ],
   "source": [
    "C = np.max(_C, axis=0)\n",
    "print(C)"
   ]
  },
  {
   "cell_type": "markdown",
   "metadata": {},
   "source": [
    "2.5 利用重心法进行反模糊化"
   ]
  },
  {
   "cell_type": "code",
   "execution_count": 6,
   "metadata": {},
   "outputs": [
    {
     "name": "stdout",
     "output_type": "stream",
     "text": [
      "2.5\n"
     ]
    }
   ],
   "source": [
    "z = np.vdot(U_output, C)/np.sum(C)\n",
    "print(z)"
   ]
  },
  {
   "cell_type": "markdown",
   "metadata": {},
   "source": [
    "2.6 根据量化公式进行约分"
   ]
  },
  {
   "cell_type": "code",
   "execution_count": 7,
   "metadata": {},
   "outputs": [
    {
     "name": "stdout",
     "output_type": "stream",
     "text": [
      "2.0\n"
     ]
    }
   ],
   "source": [
    "u = np.trunc(z+np.sign(Z)*0.4)\n",
    "print(u)"
   ]
  },
  {
   "cell_type": "markdown",
   "metadata": {},
   "source": [
    "#### 3. 对控制表的所有位置进行上述过程的计算"
   ]
  },
  {
   "cell_type": "code",
   "execution_count": 9,
   "metadata": {},
   "outputs": [
    {
     "name": "stdout",
     "output_type": "stream",
     "text": [
      "[[ 3.  3.  3.  3.  3.]\n",
      " [ 3.  3.  2.  2.  1.]\n",
      " [ 3.  3.  2.  2.  1.]\n",
      " [ 2.  2.  1.  0. -1.]\n",
      " [ 1.  1.  0. -2. -2.]\n",
      " [ 1.  0. -1. -2. -2.]\n",
      " [ 0. -2. -2. -3. -3.]\n",
      " [-1. -2. -2. -3. -3.]\n",
      " [-3. -3. -3. -3. -3.]]\n"
     ]
    }
   ],
   "source": [
    "out = np.zeros([9,5])\n",
    "for X in range(9):\n",
    "    for Y in range(5):\n",
    "        # x不为0的项：\n",
    "        idx_E = E[:,X] != 0\n",
    "        # y不为0的项：\n",
    "        idx_dE = dE[:,Y] != 0\n",
    "        # 有效规则的then\n",
    "        eff_rules = rules[idx_dE, idx_E]\n",
    "        # 应用规则后, 利用矩阵运算求矩阵间最小值\n",
    "        mu_E = E[:,X][E[:,X]>0]\n",
    "        mu_dE = dE[:,Y][dE[:,Y]>0]\n",
    "        mu_U = U[eff_rules]\n",
    "        min_temp = np.minimum(mu_dE,mu_E)\n",
    "        # 对每条有效规则求Cn\n",
    "        _C = np.minimum((min_temp).reshape(len(min_temp),1), mu_U)\n",
    "        # 取Cn的最大值\n",
    "        C = np.max(_C, axis=0)\n",
    "        # 重心法进行反模糊化\n",
    "        out[X,Y] = np.vdot(U_output, C) / np.sum(C)\n",
    "# 根据量化公式约分\n",
    "print(np.trunc(out+np.sign(out)*0.5))"
   ]
  },
  {
   "cell_type": "markdown",
   "metadata": {},
   "source": [
    "![](./%E8%A1%A8.svg)"
   ]
  }
 ],
 "metadata": {
  "interpreter": {
   "hash": "91effa93a66e545058222d6c05d27cba53e860b1deee2469a5c50b6aef3b663f"
  },
  "kernelspec": {
   "display_name": "Python 3.8.13 ('sk')",
   "language": "python",
   "name": "python3"
  },
  "language_info": {
   "codemirror_mode": {
    "name": "ipython",
    "version": 3
   },
   "file_extension": ".py",
   "mimetype": "text/x-python",
   "name": "python",
   "nbconvert_exporter": "python",
   "pygments_lexer": "ipython3",
   "version": "3.8.13"
  },
  "orig_nbformat": 4
 },
 "nbformat": 4,
 "nbformat_minor": 2
}
