{
 "cells": [
  {
   "cell_type": "markdown",
   "metadata": {},
   "source": [
    "## 作业4：使用蜂群算法优化Restrigr函数\n",
    "2112105068 韦青茂\n",
    "\n",
    "Rastrigr函数的实现："
   ]
  },
  {
   "cell_type": "code",
   "execution_count": 1,
   "metadata": {},
   "outputs": [],
   "source": [
    "import numpy as np\n",
    "from matplotlib import pyplot as plt\n",
    "\n",
    "def Rastrigr(x):\n",
    "    # 检查输入是否为 numpy-array \n",
    "    if not isinstance(x, np.ndarray): \n",
    "        x = np.asarray(x)   \n",
    "    return np.sum(np.square(x) - 10 * np.cos(2 * np.pi  * x) + 10, axis=-1)\n",
    "\n",
    "def randomF(low, up, shape): # 生成随机浮点数\n",
    "    return np.random.ranf(shape)*(up-low)+low\n",
    "plt.rcParams['font.family']=['simhei']\n",
    "plt.rcParams['axes.unicode_minus'] = True"
   ]
  },
  {
   "cell_type": "code",
   "execution_count": 4,
   "metadata": {},
   "outputs": [],
   "source": [
    "LB, UB = -5.12, 5.12                # 输入变量的取值范围\n",
    "N_DIM = 30                          # 输入变量的维度\n",
    "POP = 50 # 种群规模\n",
    "L = 10 # 停滞界限\n",
    "# POPf  = 30 # 觅食蜂种群规模\n",
    "# POPo = POP-POPf # 观察蜂种群规模\n",
    "MAX_ITER = 2000\n",
    "Y_history = [[] for _ in range(MAX_ITER)]\n",
    "\n",
    "\n",
    "for _ in range(20):  \n",
    "    # 初始解\n",
    "    x = (UB-LB)*np.random.rand(POP, N_DIM)-UB\n",
    "    y = Rastrigr(x) \n",
    "    bestX = x[np.argmin(y)]\n",
    "    bestY = np.min(y)\n",
    "    mine = np.zeros(POP)\n",
    "    for iter in range(MAX_ITER):\n",
    "        Y_history[iter].append(bestY)\n",
    "        # ==觅食蜂阶段==\n",
    "        for i in range(POP):\n",
    "            k = i\n",
    "            while k == i:\n",
    "                k = np.random.randint(0, POP)\n",
    "            phi = 2*np.random.rand() - 1\n",
    "            newX = x[i] + phi*(x[i]-x[k])\n",
    "            newY = Rastrigr(newX)\n",
    "            if newY < y[i]:\n",
    "                x[i] = newX\n",
    "                y[i] = newY\n",
    "            else:\n",
    "                mine[i] += 1\n",
    "        \n",
    "        # ==观察蜂阶段==\n",
    "        # 计算选择概率\n",
    "        probability = np.exp(-y/np.mean(y))\n",
    "        probability = probability/np.sum(probability)\n",
    "        for i in range(POP):\n",
    "            idx = np.random.choice(POP, p=probability)\n",
    "            k = i\n",
    "            while k == i:\n",
    "                k = np.random.randint(0, POP)\n",
    "            phi = 2*np.random.rand() - 1\n",
    "            newX = x[idx] + phi*(x[idx]-x[k])\n",
    "            newY = Rastrigr(newX)\n",
    "            if newY < y[idx]:\n",
    "                x[idx] = newX\n",
    "                y[idx] = newY\n",
    "                mine[idx] = 0\n",
    "            else:\n",
    "                mine[idx] += 1\n",
    "\n",
    "        # ==侦查蜂阶段==\n",
    "        for i in range(POP):\n",
    "            if mine[i] >= L:\n",
    "                x[i] = (UB-LB)*np.random.rand(1, N_DIM)-UB\n",
    "                y[i] = Rastrigr(x[i])\n",
    "                mine[i] = 0\n",
    "                # print(\"hello\")\n",
    "        \n",
    "        _bestX = x[np.argmin(y)]\n",
    "        _bestY = np.min(y)\n",
    "        if _bestY < bestY:\n",
    "            bestY = _bestY\n",
    "            bestX = _bestX\n",
    "\n"
   ]
  },
  {
   "cell_type": "code",
   "execution_count": 6,
   "metadata": {},
   "outputs": [
    {
     "data": {
      "image/png": "[encoded data removed]",
      "text/plain": [
       "<Figure size 432x288 with 1 Axes>"
      ]
     },
     "metadata": {
      "needs_background": "light"
     },
     "output_type": "display_data"
    }
   ],
   "source": [
    "# 画出曲线\n",
    "idx = np.arange(MAX_ITER)\n",
    "avgY = [np.average(i) for i in Y_history]\n",
    "figure = plt.plot(idx, avgY,  color='blue')\n",
    "plt.xlabel(\"迭代次数\")\n",
    "plt.ylabel(\"平均函数值\")\n",
    "plt.title(\"20次试验下无标准差自适应的1+1算法的平均函数值\")\n",
    "plt.show()"
   ]
  }
 ],
 "metadata": {
  "kernelspec": {
   "display_name": "Python 3.8.13 ('cpu')",
   "language": "python",
   "name": "python3"
  },
  "language_info": {
   "codemirror_mode": {
    "name": "ipython",
    "version": 3
   },
   "file_extension": ".py",
   "mimetype": "text/x-python",
   "name": "python",
   "nbconvert_exporter": "python",
   "pygments_lexer": "ipython3",
   "version": "3.8.13"
  },
  "orig_nbformat": 4,
  "vscode": {
   "interpreter": {
    "hash": "8187a2d76c966eecbe8bd090a89b5cd3a6f55f9c662186a00868ea3baaa16093"
   }
  }
 },
 "nbformat": 4,
 "nbformat_minor": 2
}
